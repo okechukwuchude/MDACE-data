{
 "cells": [
  {
   "cell_type": "code",
   "execution_count": 15,
   "metadata": {},
   "outputs": [],
   "source": [
    "import sys, os, time, io, re, traceback, warnings, weakref, collections.abc\n",
    "\n",
    "from types import GenericAlias\n",
    "from string import Template\n",
    "from string import Formatter as StrFormatter"
   ]
  },
  {
   "cell_type": "code",
   "execution_count": 16,
   "metadata": {},
   "outputs": [],
   "source": [
    "__all__ = ['BASIC_FORMAT', 'BufferingFormatter', 'CRITICAL', 'DEBUG', 'ERROR',\n",
    "           'FATAL', 'FileHandler', 'Filter', 'Formatter', 'Handler', 'INFO',\n",
    "           'LogRecord', 'Logger', 'LoggerAdapter', 'NOTSET', 'NullHandler',\n",
    "           'StreamHandler', 'WARN', 'WARNING', 'addLevelName', 'basicConfig',\n",
    "           'captureWarnings', 'critical', 'debug', 'disable', 'error',\n",
    "           'exception', 'fatal', 'getLevelName', 'getLogger', 'getLoggerClass',\n",
    "           'info', 'log', 'makeLogRecord', 'setLoggerClass', 'shutdown',\n",
    "           'warn', 'warning', 'getLogRecordFactory', 'setLogRecordFactory',\n",
    "           'lastResort', 'raiseExceptions', 'getLevelNamesMapping',\n",
    "           'getHandlerByName', 'getHandlerNames']"
   ]
  },
  {
   "cell_type": "code",
   "execution_count": 17,
   "metadata": {},
   "outputs": [],
   "source": [
    "#---------------------------------------------------------------------------\n",
    "#   Miscellaneous module data\n",
    "#---------------------------------------------------------------------------\n",
    "\n",
    "#\n",
    "#_startTime is used as the base when calculating the relative time of events\n",
    "#\n",
    "_startTime = time.time()\n",
    "\n",
    "#\n",
    "#raiseExceptions is used to see if exceptions during handling should be\n",
    "#propagated\n",
    "#\n",
    "raiseExceptions = True\n",
    "\n",
    "#\n",
    "# If you don't want threading information in the log, set this to False\n",
    "#\n",
    "logThreads = True\n",
    "\n",
    "#\n",
    "# If you don't want multiprocessing information in the log, set this to False\n",
    "#\n",
    "logMultiprocessing = True\n",
    "\n",
    "#\n",
    "# If you don't want process information in the log, set this to False\n",
    "#\n",
    "logProcesses = True\n",
    "\n",
    "#\n",
    "# If you don't want asyncio task information in the log, set this to False\n",
    "#\n",
    "logAsyncioTasks = True\n"
   ]
  },
  {
   "cell_type": "code",
   "execution_count": 18,
   "metadata": {},
   "outputs": [],
   "source": [
    "#---------------------------------------------------------------------------\n",
    "#   Level related stuff\n",
    "#---------------------------------------------------------------------------\n",
    "#\n",
    "# Default levels and level names, these can be replaced with any positive set\n",
    "# of values having corresponding names. There is a pseudo-level, NOTSET, which\n",
    "# is only really there as a lower limit for user-defined levels. Handlers and\n",
    "# loggers are initialized with NOTSET so that they will log all messages, even\n",
    "# at user-defined levels.\n",
    "#\n",
    "\n",
    "CRITICAL = 50\n",
    "FATAL = CRITICAL\n",
    "ERROR = 40\n",
    "WARNING = 30\n",
    "WARN = WARNING\n",
    "INFO = 20\n",
    "DEBUG = 10\n",
    "NOTSET = 0\n",
    "\n",
    "_levelToName = {\n",
    "    CRITICAL: 'CRITICAL',\n",
    "    ERROR: 'ERROR',\n",
    "    WARNING: 'WARNING',\n",
    "    INFO: 'INFO',\n",
    "    DEBUG: 'DEBUG',\n",
    "    NOTSET: 'NOTSET',\n",
    "}\n",
    "_nameToLevel = {\n",
    "    'CRITICAL': CRITICAL,\n",
    "    'FATAL': FATAL,\n",
    "    'ERROR': ERROR,\n",
    "    'WARN': WARNING,\n",
    "    'WARNING': WARNING,\n",
    "    'INFO': INFO,\n",
    "    'DEBUG': DEBUG,\n",
    "    'NOTSET': NOTSET,\n",
    "}\n"
   ]
  },
  {
   "cell_type": "code",
   "execution_count": 19,
   "metadata": {},
   "outputs": [],
   "source": [
    "def getLevelNamesMapping():\n",
    "    return _nameToLevel.copy()\n",
    "\n",
    "def getLevelName(level):\n",
    "    \"\"\"\n",
    "    Return the textual or numeric representation of logging level 'level'.\n",
    "\n",
    "    If the level is one of the predefined levels (CRITICAL, ERROR, WARNING,\n",
    "    INFO, DEBUG) then you get the corresponding string. If you have\n",
    "    associated levels with names using addLevelName then the name you have\n",
    "    associated with 'level' is returned.\n",
    "\n",
    "    If a numeric value corresponding to one of the defined levels is passed\n",
    "    in, the corresponding string representation is returned.\n",
    "\n",
    "    If a string representation of the level is passed in, the corresponding\n",
    "    numeric value is returned.\n",
    "\n",
    "    If no matching numeric or string value is passed in, the string\n",
    "    'Level %s' % level is returned.\n",
    "    \"\"\"\n",
    "    # See Issues #22386, #27937 and #29220 for why it's this way\n",
    "    result = _levelToName.get(level)\n",
    "    if result is not None:\n",
    "        return result\n",
    "    result = _nameToLevel.get(level)\n",
    "    if result is not None:\n",
    "        return result\n",
    "    return \"Level %s\" % level"
   ]
  },
  {
   "cell_type": "code",
   "execution_count": 20,
   "metadata": {},
   "outputs": [],
   "source": [
    "def addLevelName(level, levelName):\n",
    "    \"\"\"\n",
    "    Associate 'levelName' with 'level'.\n",
    "\n",
    "    This is used when converting levels to text during message formatting.\n",
    "    \"\"\"\n",
    "    _acquireLock()\n",
    "    try:    #unlikely to cause an exception, but you never know...\n",
    "        _levelToName[level] = levelName\n",
    "        _nameToLevel[levelName] = level\n",
    "    finally:\n",
    "        _releaseLock()\n",
    "\n",
    "if hasattr(sys, \"_getframe\"):\n",
    "    currentframe = lambda: sys._getframe(1)\n",
    "else: #pragma: no cover\n",
    "    def currentframe():\n",
    "        \"\"\"Return the frame object for the caller's stack frame.\"\"\"\n",
    "        try:\n",
    "            raise Exception\n",
    "        except Exception as exc:\n",
    "            return exc.__traceback__.tb_frame.f_back"
   ]
  },
  {
   "cell_type": "code",
   "execution_count": 21,
   "metadata": {},
   "outputs": [],
   "source": [
    "_srcfile = os.path.normcase(addLevelName.__code__.co_filename)\n"
   ]
  },
  {
   "cell_type": "code",
   "execution_count": 22,
   "metadata": {},
   "outputs": [],
   "source": [
    "def _is_internal_frame(frame):\n",
    "    \"\"\"Signal whether the frame is a CPython or logging module internal.\"\"\"\n",
    "    filename = os.path.normcase(frame.f_code.co_filename)\n",
    "    return filename == _srcfile or (\n",
    "        \"importlib\" in filename and \"_bootstrap\" in filename\n",
    "    )"
   ]
  },
  {
   "cell_type": "code",
   "execution_count": 23,
   "metadata": {},
   "outputs": [],
   "source": [
    "def _checkLevel(level):\n",
    "    if isinstance(level, int):\n",
    "        rv = level\n",
    "    elif str(level) == level:\n",
    "        if level not in _nameToLevel:\n",
    "            raise ValueError(\"Unknown level: %r\" % level)\n",
    "        rv = _nameToLevel[level]\n",
    "    else:\n",
    "        raise TypeError(\"Level not an integer or a valid string: %r\"\n",
    "                        % (level,))\n",
    "    return rv\n"
   ]
<<<<<<< Updated upstream
  },
  {
   "cell_type": "code",
   "execution_count": 24,
   "metadata": {},
   "outputs": [
    {
     "ename": "NameError",
     "evalue": "name 'threading' is not defined",
     "output_type": "error",
     "traceback": [
      "\u001b[1;31m---------------------------------------------------------------------------\u001b[0m",
      "\u001b[1;31mNameError\u001b[0m                                 Traceback (most recent call last)",
      "Cell \u001b[1;32mIn[24], line 1\u001b[0m\n\u001b[1;32m----> 1\u001b[0m _lock \u001b[38;5;241m=\u001b[39m \u001b[43mthreading\u001b[49m\u001b[38;5;241m.\u001b[39mRLock()\n\u001b[0;32m      3\u001b[0m \u001b[38;5;28;01mdef\u001b[39;00m \u001b[38;5;21m_acquireLock\u001b[39m():\n\u001b[0;32m      4\u001b[0m \u001b[38;5;250m    \u001b[39m\u001b[38;5;124;03m\"\"\"\u001b[39;00m\n\u001b[0;32m      5\u001b[0m \u001b[38;5;124;03m    Acquire the module-level lock for serializing access to shared data.\u001b[39;00m\n\u001b[0;32m      6\u001b[0m \n\u001b[0;32m      7\u001b[0m \u001b[38;5;124;03m    This should be released with _releaseLock().\u001b[39;00m\n\u001b[0;32m      8\u001b[0m \u001b[38;5;124;03m    \"\"\"\u001b[39;00m\n",
      "\u001b[1;31mNameError\u001b[0m: name 'threading' is not defined"
     ]
    }
   ],
   "source": [
    
   ]
  },
  {
   "cell_type": "code",
   "execution_count": null,
   "metadata": {},
   "outputs": [],
   "source": []
=======
>>>>>>> Stashed changes
  }
 ],
 "metadata": {
  "kernelspec": {
   "display_name": "Python 3",
   "language": "python",
   "name": "python3"
  },
  "language_info": {
   "codemirror_mode": {
    "name": "ipython",
    "version": 3
   },
   "file_extension": ".py",
   "mimetype": "text/x-python",
   "name": "python",
   "nbconvert_exporter": "python",
   "pygments_lexer": "ipython3",
   "version": "3.12.2"
  }
 },
 "nbformat": 4,
 "nbformat_minor": 2
}
